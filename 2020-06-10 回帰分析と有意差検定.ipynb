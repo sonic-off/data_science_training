{
 "cells": [
  {
   "cell_type": "markdown",
   "metadata": {},
   "source": [
    "# 13.1.3\n",
    "- 直径が1デカかったら高さは0.9高くなるのではないか という仮説を検定する(有意水準5%)\n",
    "- y = 0.9x + hogeとして、これが正しいかどうかを検定\n",
    "- 帰無仮説:真の傾きβ=0.9\n",
    "- 対立仮説:真の傾きβ≠0.9\n",
    "- これは正の相関と考えられるから、片側検定でよいはず"
   ]
  },
  {
   "cell_type": "code",
   "execution_count": 2,
   "metadata": {},
   "outputs": [],
   "source": [
    "# 必要なライブラリのインポート\n",
    "import numpy as np\n",
    "import pandas as pd\n",
    "import scipy as sp\n",
    "from scipy import stats"
   ]
  },
  {
   "cell_type": "code",
   "execution_count": 3,
   "metadata": {},
   "outputs": [],
   "source": [
    "# 元のデータ読み込み。前回の回帰分析から、これの傾きは0.9615と出ている\n",
    "woods_df = pd.DataFrame({'diameter':[2,2,2,2,2.5,2.5,2.5,2.5,2.5,3,3,3,3,3,3,3,3.5,3.5,3.5,3.5,3.5,3.5,4,4,4,4,4,4,4,4.5,4.5,4.5,4.5,4.5,4.5,5,5,5,5,5,5,5.5,5.5,5.5,5.5,5.5,5.5,5.5,5.5,6,6,6,6,6,6.5,6.5,6.5,6.5,7],\n",
    "                      'height':[2,2.5,2.5,3,2,2.5,3,3,3,3.5,2.5,3,3,3.5,3.5,4,4.5,3,3.5,4,4.5,5,5.5,3.5,4,4.5,4.5,5,5.5,5.5,4,4.5,5,5,5.5,5.5,6,4.5,5,5.5,6,6.5,5,5.5,5.5,6,6,6.5,7,5.5,5.5,6,6.5,7,5.5,6.5,7,7,7.5]})"
   ]
  },
  {
   "cell_type": "code",
   "execution_count": 4,
   "metadata": {},
   "outputs": [],
   "source": [
    "# 標準誤差(標準誤差とは…？)\n",
    "x = woods_df.diameter\n",
    "s_e_ = np.std(x, ddof=1) / np.sqrt(len(x))\n",
    "# t-ratioの算出\n",
    "t = (0.9615-0.9)/s_e_"
   ]
  },
  {
   "cell_type": "code",
   "execution_count": 5,
   "metadata": {},
   "outputs": [
    {
     "name": "stdout",
     "output_type": "stream",
     "text": [
      "0.34388158260823276\n"
     ]
    }
   ],
   "source": [
    "print(t)"
   ]
  },
  {
   "cell_type": "markdown",
   "metadata": {},
   "source": [
    "- 0.05より大きいので、帰無仮説は棄却されない"
   ]
  },
  {
   "cell_type": "markdown",
   "metadata": {},
   "source": [
    "# 13.1.4\n",
    "- 標本回帰直線から、2s.e以上外れる樹木はあるか？\n"
   ]
  },
  {
   "cell_type": "code",
   "execution_count": 10,
   "metadata": {},
   "outputs": [],
   "source": [
    "# 標準誤差から、範囲を出す\n",
    "h1 = 2*s_e_\n",
    "h2 = -2*s_e_"
   ]
  },
  {
   "cell_type": "code",
   "execution_count": 11,
   "metadata": {},
   "outputs": [
    {
     "name": "stdout",
     "output_type": "stream",
     "text": [
      "0.35768126651937565\n",
      "-0.35768126651937565\n"
     ]
    }
   ],
   "source": [
    "print(h1)\n",
    "print(h2)"
   ]
  },
  {
   "cell_type": "markdown",
   "metadata": {},
   "source": [
    "- ぱっとみある"
   ]
  },
  {
   "cell_type": "markdown",
   "metadata": {},
   "source": [
    "# 13.1.5 \n",
    "直径8の樹の高さの平均は？"
   ]
  },
  {
   "cell_type": "code",
   "execution_count": 13,
   "metadata": {},
   "outputs": [
    {
     "name": "stdout",
     "output_type": "stream",
     "text": [
      "8.2478\n"
     ]
    }
   ],
   "source": [
    "# 前の回帰モデルで height=0.9615 * diameter + 0.5558 と出しているので…\n",
    "print(0.9615*8+0.5558)"
   ]
  },
  {
   "cell_type": "markdown",
   "metadata": {},
   "source": [
    "## 感想\n",
    "- 割と言葉が難しいので気負っちゃうが、うまくpythonくんに計算を任せることができれば作業自体はできる"
   ]
  },
  {
   "cell_type": "code",
   "execution_count": null,
   "metadata": {},
   "outputs": [],
   "source": []
  }
 ],
 "metadata": {
  "kernelspec": {
   "display_name": "Python 3",
   "language": "python",
   "name": "python3"
  },
  "language_info": {
   "codemirror_mode": {
    "name": "ipython",
    "version": 3
   },
   "file_extension": ".py",
   "mimetype": "text/x-python",
   "name": "python",
   "nbconvert_exporter": "python",
   "pygments_lexer": "ipython3",
   "version": "3.7.6"
  }
 },
 "nbformat": 4,
 "nbformat_minor": 4
}
