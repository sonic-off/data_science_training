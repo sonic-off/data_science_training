{
 "cells": [
  {
   "cell_type": "markdown",
   "metadata": {},
   "source": [
    "# 13.2 銅消費量とGDP"
   ]
  },
  {
   "cell_type": "markdown",
   "metadata": {},
   "source": [
    "### (1) 銅消費量とGDPをグラフに描いて関係を分析せよ"
   ]
  },
  {
   "cell_type": "code",
   "execution_count": 23,
   "metadata": {},
   "outputs": [
    {
     "name": "stdout",
     "output_type": "stream",
     "text": [
      "             0          1\n",
      "年     銅消費量(千t)  実質GDP(兆円)\n",
      "1960       229       61.2\n",
      "1961       367         70\n",
      "1962       301       74.9\n",
      "1963       352       82.8\n",
      "1964       457       93.6\n",
      "1965       427       98.5\n",
      "1966       485      108.8\n",
      "1967       616      120.1\n",
      "1968       695      135.1\n",
      "1969       806      152.5\n",
      "1970       815      165.8\n",
      "1971       826        173\n",
      "1972       951      189.9\n",
      "1973      1202      202.6\n",
      "1974       881      199.7\n",
      "1975       827        205\n",
      "1976      1050      214.9\n",
      "1977      1127      226.3\n",
      "1978      1241      238.1\n",
      "1979      1330      250.7\n",
      "1980      1158      261.4\n",
      "1981      1254        271\n",
      "1982      1243      279.3\n",
      "1983      1216      288.4\n",
      "1984      1368        303\n",
      "1985      1231      317.3\n",
      "1986      1219      325.7\n",
      "1987      1284      340.3\n",
      "1988      1355      359.5\n"
     ]
    }
   ],
   "source": [
    "# データのインポート\n",
    "import pandas as pd\n",
    "# csvの読み取り\n",
    "df= pd.read_csv('2020-06-12_copper.csv')\n",
    "#.Tで行列を転置できる\n",
    "copper_df = df.T\n",
    "print(copper_df)"
   ]
  },
  {
   "cell_type": "code",
   "execution_count": 35,
   "metadata": {},
   "outputs": [],
   "source": [
    "# ヘッダーの削除\n",
    "a = copper_df.drop(\"年\",axis=0)\n",
    "# 値取り出し\n",
    "x = a[0].values\n",
    "y = a[1].values"
   ]
  },
  {
   "cell_type": "code",
   "execution_count": 36,
   "metadata": {},
   "outputs": [
    {
     "data": {
      "text/plain": [
       "<matplotlib.collections.PathCollection at 0x27d7dac6d08>"
      ]
     },
     "execution_count": 36,
     "metadata": {},
     "output_type": "execute_result"
    },
    {
     "data": {
      "image/png": "[encoded data removed]",
      "text/plain": [
       "<Figure size 432x288 with 1 Axes>"
      ]
     },
     "metadata": {
      "needs_background": "light"
     },
     "output_type": "display_data"
    }
   ],
   "source": [
    "%matplotlib inline\n",
    "import matplotlib.pyplot as plt\n",
    "plt.scatter(x,y)"
   ]
  },
  {
   "cell_type": "markdown",
   "metadata": {},
   "source": [
    "- 正の相関があるっぽい"
   ]
  },
  {
   "cell_type": "markdown",
   "metadata": {},
   "source": [
    "### (2)銅消費量のGDP弾性値を回帰分析によって推定せよ"
   ]
  },
  {
   "cell_type": "code",
   "execution_count": 42,
   "metadata": {},
   "outputs": [],
   "source": [
    "## データから弾性値を考えるには、　logY = β1 + β2logX + ui と考えてβ2を推定する\n",
    "### 自然対数の計算を各要素に対して行う必要がある\n",
    "import math"
   ]
  },
  {
   "cell_type": "code",
   "execution_count": null,
   "metadata": {},
   "outputs": [],
   "source": []
  }
 ],
 "metadata": {
  "kernelspec": {
   "display_name": "Python 3",
   "language": "python",
   "name": "python3"
  },
  "language_info": {
   "codemirror_mode": {
    "name": "ipython",
    "version": 3
   },
   "file_extension": ".py",
   "mimetype": "text/x-python",
   "name": "python",
   "nbconvert_exporter": "python",
   "pygments_lexer": "ipython3",
   "version": "3.7.6"
  }
 },
 "nbformat": 4,
 "nbformat_minor": 4
}
